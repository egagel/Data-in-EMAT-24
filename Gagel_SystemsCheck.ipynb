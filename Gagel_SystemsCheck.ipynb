{
 "cells": [
  {
   "cell_type": "markdown",
   "id": "f1a34798-305b-41d5-967a-921d3d341dc5",
   "metadata": {},
   "source": [
    "# Systems Check\n",
    "## Erin Gagel\n",
    "### 8/22/2024\n",
    "In this class I want to learn the basics of how to code in __python__. I'd also like to learn more about finding and filtering _data_.\n",
    "\n",
    "1. Code in python\n",
    "2. Filter data\n",
    "3. Become more comfortable and confident with coding in general\n",
    "- hopefully I do well in this class\n",
    "- if I don't that would suck\n",
    "![snake](https://ottumwaradio.com/wp-content/uploads/2018/03/Snake-With-Hat-Funny-Image.jpg)"
   ]
  },
  {
   "cell_type": "code",
   "execution_count": null,
   "id": "77a8e80a-5e78-4706-b03c-a0891c69dcff",
   "metadata": {},
   "outputs": [],
   "source": []
  }
 ],
 "metadata": {
  "kernelspec": {
   "display_name": "Python 3 (ipykernel)",
   "language": "python",
   "name": "python3"
  },
  "language_info": {
   "codemirror_mode": {
    "name": "ipython",
    "version": 3
   },
   "file_extension": ".py",
   "mimetype": "text/x-python",
   "name": "python",
   "nbconvert_exporter": "python",
   "pygments_lexer": "ipython3",
   "version": "3.12.4"
  }
 },
 "nbformat": 4,
 "nbformat_minor": 5
}
