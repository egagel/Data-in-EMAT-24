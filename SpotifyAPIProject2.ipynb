{
 "cells": [
  {
   "cell_type": "code",
   "execution_count": 52,
   "id": "4028fd4a-cce0-4320-a8ca-9b322eb07287",
   "metadata": {},
   "outputs": [],
   "source": [
    "import requests\n",
    "import base64\n",
    "import six\n",
    "import json\n",
    "import requests\n",
    "import pandas as pd"
   ]
  },
  {
   "cell_type": "code",
   "execution_count": 53,
   "id": "32ee9af6-ed19-4728-bcac-cb66cf9e9019",
   "metadata": {},
   "outputs": [],
   "source": [
    "app_key = pd.read_csv(\"SpotifyAPIKeys.txt\")\n",
    "# app_key"
   ]
  },
  {
   "cell_type": "code",
   "execution_count": 54,
   "id": "ff66f3e1-f15a-4800-93f2-1196f90b1fc2",
   "metadata": {},
   "outputs": [],
   "source": [
    "app_id = app_key['Client_ID'].iloc[0]\n",
    "app_token = app_key['Client_Secret'].iloc[0]"
   ]
  },
  {
   "cell_type": "code",
   "execution_count": 89,
   "id": "5ea82321-916b-4dcd-882f-4add67d12ca7",
   "metadata": {},
   "outputs": [],
   "source": [
    "encoded_key = base64.b64encode(str(app_id + \":\" + app_token).encode(\"ascii\"))\n",
    "# encoded_key"
   ]
  },
  {
   "cell_type": "code",
   "execution_count": 56,
   "id": "91b19910-e728-4d00-8b99-dca63f80aa47",
   "metadata": {},
   "outputs": [],
   "source": [
    "tokens = pd.read_csv(\"SpotifyAPIKeys.txt\", sep = ',', header = None)\n",
    "tokens.columns = tokens.iloc[0]\n",
    "tokens = tokens[1:]\n",
    "# tokens.Client_Secret[1]"
   ]
  },
  {
   "cell_type": "code",
   "execution_count": 57,
   "id": "3dc130f1-df94-4d47-b013-207b1d270d71",
   "metadata": {},
   "outputs": [],
   "source": [
    "keys = pd.read_csv(\"SpotifyAPIKeys.txt\")"
   ]
  },
  {
   "cell_type": "code",
   "execution_count": 76,
   "id": "e1a58c1a-7e3f-4e12-9ab9-f385234a3c8c",
   "metadata": {},
   "outputs": [],
   "source": [
    "def start_session_headers(client_id, client_secret):\n",
    "    client_cred = base64.b64encode(six.text_type(client_id + \":\" + client_secret).encode(\"ascii\"))\n",
    "    headers = {\"Authorization\": \"Basic %s\" % client_cred.decode(\"ascii\")}\n",
    "    return headers"
   ]
  },
  {
   "cell_type": "code",
   "execution_count": 77,
   "id": "a48b3e53-87fb-42bb-b38b-7e4628d34b21",
   "metadata": {},
   "outputs": [],
   "source": [
    "def connect_to_client_cred(url, headers):\n",
    "    payload = {'grant_type' : 'client_credentials'}\n",
    "    response = requests.request(\"POST\", url, headers = headers, data = payload)\n",
    "    print(response.status_code)\n",
    "    if response.status_code != 200:\n",
    "        raise Exception(response.status_code, response.text)\n",
    "    return response.json()"
   ]
  },
  {
   "cell_type": "code",
   "execution_count": 90,
   "id": "299e2272-7df8-4c8a-b147-0006df331b3f",
   "metadata": {},
   "outputs": [],
   "source": [
    "# this box above is where we're connecting to the spotify api file location"
   ]
  },
  {
   "cell_type": "code",
   "execution_count": 78,
   "id": "48184d6a-5510-491b-a801-1a59743a8004",
   "metadata": {},
   "outputs": [],
   "source": [
    "def get_access_token():\n",
    "    #Uses the Client Credentials flow, no access to endpoints with user data\n",
    "    url = \"https://accounts.spotify.com/api/token\"\n",
    "    header = start_session_headers(tokens.Client_ID[1], tokens.Client_Secret[1])\n",
    "    json_response = connect_to_client_cred(url, header)\n",
    "\n",
    "    return json.dumps(json_response, indent = 4, sort_keys = True)\n",
    "    return json_response"
   ]
  },
  {
   "cell_type": "code",
   "execution_count": 79,
   "id": "2a1f6935-4fb6-4179-b17a-a0f780ce3433",
   "metadata": {},
   "outputs": [],
   "source": [
    "url = 'https://accounts.spotify.com/api/token'\n",
    "data = {'grant_type':'client_credentials'}\n",
    "header = {'Authorization': 'Basic {}'.format(encoded_key.decode(\"ascii\"))}"
   ]
  },
  {
   "cell_type": "code",
   "execution_count": 80,
   "id": "216e1b49-e9ae-4b4f-84f1-d3da944f9959",
   "metadata": {},
   "outputs": [
    {
     "name": "stdout",
     "output_type": "stream",
     "text": [
      "200\n"
     ]
    }
   ],
   "source": [
    "session_token = get_access_token()"
   ]
  },
  {
   "cell_type": "code",
   "execution_count": 88,
   "id": "cd0169ab-a164-4d9a-8301-72b19c14f760",
   "metadata": {},
   "outputs": [],
   "source": [
    "# session_token"
   ]
  },
  {
   "cell_type": "code",
   "execution_count": 82,
   "id": "1d3054ff-96e4-427f-9be0-7a36ac21775f",
   "metadata": {},
   "outputs": [],
   "source": [
    "# session_token[\"access_token\"]"
   ]
  },
  {
   "cell_type": "code",
   "execution_count": 83,
   "id": "10bca970-1a95-461e-9266-cc06da5c1d62",
   "metadata": {},
   "outputs": [],
   "source": [
    "# Having a lot of trouble with the line above. Looking it up for the past while and I just cant figure out what I did wrong here."
   ]
  },
  {
   "cell_type": "code",
   "execution_count": 84,
   "id": "c8f16fdc-7d30-4ef6-87eb-7d38b347aa98",
   "metadata": {},
   "outputs": [
    {
     "ename": "TypeError",
     "evalue": "string indices must be integers, not 'str'",
     "output_type": "error",
     "traceback": [
      "\u001b[1;31m---------------------------------------------------------------------------\u001b[0m",
      "\u001b[1;31mTypeError\u001b[0m                                 Traceback (most recent call last)",
      "Cell \u001b[1;32mIn[84], line 5\u001b[0m\n\u001b[0;32m      2\u001b[0m     headers \u001b[38;5;241m=\u001b[39m {\u001b[38;5;124m\"\u001b[39m\u001b[38;5;124mAuthorization\u001b[39m\u001b[38;5;124m\"\u001b[39m: \u001b[38;5;124m\"\u001b[39m\u001b[38;5;124mBearer \u001b[39m\u001b[38;5;132;01m{}\u001b[39;00m\u001b[38;5;124m\"\u001b[39m\u001b[38;5;241m.\u001b[39mformat(session_token)}\n\u001b[0;32m      3\u001b[0m     \u001b[38;5;28;01mreturn\u001b[39;00m headers\n\u001b[1;32m----> 5\u001b[0m create_header(\u001b[43msession_token\u001b[49m\u001b[43m[\u001b[49m\u001b[38;5;124;43m'\u001b[39;49m\u001b[38;5;124;43maccess_token\u001b[39;49m\u001b[38;5;124;43m'\u001b[39;49m\u001b[43m]\u001b[49m)\n",
      "\u001b[1;31mTypeError\u001b[0m: string indices must be integers, not 'str'"
     ]
    }
   ],
   "source": [
    "def create_header(session_token):\n",
    "    headers = {\"Authorization\": \"Bearer {}\".format(session_token)}\n",
    "    return headers\n",
    "\n",
    "create_header(session_token['access_token'])"
   ]
  },
  {
   "cell_type": "code",
   "execution_count": 69,
   "id": "dcb44f59-1cc6-4f0f-a918-3d56ee3184b7",
   "metadata": {},
   "outputs": [
    {
     "data": {
      "text/plain": [
       "200"
      ]
     },
     "execution_count": 69,
     "metadata": {},
     "output_type": "execute_result"
    }
   ],
   "source": [
    "session_response = requests.post(url, data = data, headers = header)\n",
    "session_response.status_code"
   ]
  },
  {
   "cell_type": "code",
   "execution_count": 70,
   "id": "fac917e7-3230-49d6-8f86-c6133f61abcd",
   "metadata": {},
   "outputs": [],
   "source": [
    "session_token = session_response.json()['access_token']\n",
    "session_headers = {\"Authorization\": \"Bearer {}\".format(session_token)}\n",
    "# session_headers"
   ]
  },
  {
   "cell_type": "code",
   "execution_count": null,
   "id": "fd4f2b78-a47c-4932-9346-8f51ef3939e9",
   "metadata": {},
   "outputs": [],
   "source": [
    "# session_token"
   ]
  },
  {
   "cell_type": "code",
   "execution_count": null,
   "id": "2e933377-f478-40d6-929a-8a59dd230b3d",
   "metadata": {},
   "outputs": [],
   "source": [
    "keys "
   ]
  },
  {
   "cell_type": "code",
   "execution_count": 71,
   "id": "8e14120f-7b71-4cf8-b955-b6e7534e080e",
   "metadata": {},
   "outputs": [
    {
     "ename": "TypeError",
     "evalue": "get_session_token() takes 0 positional arguments but 2 were given",
     "output_type": "error",
     "traceback": [
      "\u001b[1;31m---------------------------------------------------------------------------\u001b[0m",
      "\u001b[1;31mTypeError\u001b[0m                                 Traceback (most recent call last)",
      "Cell \u001b[1;32mIn[71], line 1\u001b[0m\n\u001b[1;32m----> 1\u001b[0m access_token \u001b[38;5;241m=\u001b[39m \u001b[43mget_session_token\u001b[49m\u001b[43m(\u001b[49m\u001b[43mkeys\u001b[49m\u001b[43m[\u001b[49m\u001b[38;5;124;43m'\u001b[39;49m\u001b[38;5;124;43mClient_ID\u001b[39;49m\u001b[38;5;124;43m'\u001b[39;49m\u001b[43m]\u001b[49m\u001b[38;5;241;43m.\u001b[39;49m\u001b[43miloc\u001b[49m\u001b[43m[\u001b[49m\u001b[38;5;241;43m0\u001b[39;49m\u001b[43m]\u001b[49m\u001b[43m,\u001b[49m\u001b[43m \u001b[49m\u001b[43mkeys\u001b[49m\u001b[43m[\u001b[49m\u001b[38;5;124;43m'\u001b[39;49m\u001b[38;5;124;43mClient_Secret\u001b[39;49m\u001b[38;5;124;43m'\u001b[39;49m\u001b[43m]\u001b[49m\u001b[38;5;241;43m.\u001b[39;49m\u001b[43miloc\u001b[49m\u001b[43m[\u001b[49m\u001b[38;5;241;43m0\u001b[39;49m\u001b[43m]\u001b[49m\u001b[43m)\u001b[49m\n",
      "\u001b[1;31mTypeError\u001b[0m: get_session_token() takes 0 positional arguments but 2 were given"
     ]
    }
   ],
   "source": [
    "access_token = get_session_token(keys['Client_ID'].iloc[0], keys['Client_Secret'].iloc[0])"
   ]
  },
  {
   "cell_type": "code",
   "execution_count": null,
   "id": "eef088d9-1efb-4703-8212-ecdb8dab276c",
   "metadata": {},
   "outputs": [],
   "source": [
    "session_token['access_token']"
   ]
  },
  {
   "cell_type": "code",
   "execution_count": null,
   "id": "a4765e75-5d89-4d49-b0b1-678f44975843",
   "metadata": {},
   "outputs": [],
   "source": [
    "access_token"
   ]
  },
  {
   "cell_type": "code",
   "execution_count": 86,
   "id": "5c1ed8c3-8b76-4505-8bab-7c6e8bc967ef",
   "metadata": {},
   "outputs": [],
   "source": [
    "def create_header(session_token):\n",
    "    headers = {\"Authorization\": \"Bearer {}\".format(session_token)}\n",
    "    return headers\n",
    "\n",
    "#create_header(session_token['access_token'])"
   ]
  },
  {
   "cell_type": "code",
   "execution_count": null,
   "id": "00d0b0f5-8309-40d8-9aa5-d61e9e56821f",
   "metadata": {},
   "outputs": [],
   "source": [
    "# The above is just to create a header for the session token and the below is to find the endpoint or basically find the point where we're getting the information from."
   ]
  },
  {
   "cell_type": "code",
   "execution_count": 87,
   "id": "f94746f8-00ba-4220-9b3f-822e27e394e3",
   "metadata": {},
   "outputs": [],
   "source": [
    "def connect_to_endpoint(url, headers):\n",
    "    response =requests.request(\"GET\", url, headers = headers)\n",
    "    print(response.status_code)\n",
    "    if response.status_code != 200:\n",
    "        raise Exception(response.status_code, response.text)\n",
    "    return response.json()"
   ]
  },
  {
   "cell_type": "code",
   "execution_count": 91,
   "id": "bd0e5f0a-e142-49fb-86ac-5989282d7a14",
   "metadata": {},
   "outputs": [],
   "source": [
    "def track_audio_features(id):\n",
    "    url = 'https://api.spotify.com/v1/audio-features/{}'.format(id)\n",
    "    header = create_header(session_token['access_token'])\n",
    "    json_response = connect_to_endpoint(url, header)\n",
    "    return json_response"
   ]
  },
  {
   "cell_type": "code",
   "execution_count": 92,
   "id": "d1ec201f-a6c6-459c-85ba-9d9f56873b74",
   "metadata": {},
   "outputs": [],
   "source": [
    "def get_an_album(id):\n",
    "    url = 'https://api.spotify.com/v1/albums/{}'.format(id)\n",
    "    header = create_header(session_token['access_token'])\n",
    "    json_response = connect_to_endpoint(url, header)\n",
    "    return json_response"
   ]
  },
  {
   "cell_type": "code",
   "execution_count": 93,
   "id": "585cba78-644c-42a9-a452-bc24d5519a3f",
   "metadata": {},
   "outputs": [],
   "source": [
    "# The above 2 boxes are what I'm using to reach the spotify album itself and the spotify tracks"
   ]
  },
  {
   "cell_type": "code",
   "execution_count": 94,
   "id": "7092ff7c-d3a4-4eb9-96ff-3735e4d9fe68",
   "metadata": {},
   "outputs": [
    {
     "ename": "TypeError",
     "evalue": "string indices must be integers, not 'str'",
     "output_type": "error",
     "traceback": [
      "\u001b[1;31m---------------------------------------------------------------------------\u001b[0m",
      "\u001b[1;31mTypeError\u001b[0m                                 Traceback (most recent call last)",
      "Cell \u001b[1;32mIn[94], line 1\u001b[0m\n\u001b[1;32m----> 1\u001b[0m album \u001b[38;5;241m=\u001b[39m \u001b[43mget_an_album\u001b[49m\u001b[43m(\u001b[49m\u001b[38;5;124;43m'\u001b[39;49m\u001b[38;5;124;43m4SCX3dug3ynnD4WmwHfIbL\u001b[39;49m\u001b[38;5;124;43m'\u001b[39;49m\u001b[43m)\u001b[49m\n",
      "Cell \u001b[1;32mIn[92], line 3\u001b[0m, in \u001b[0;36mget_an_album\u001b[1;34m(id)\u001b[0m\n\u001b[0;32m      1\u001b[0m \u001b[38;5;28;01mdef\u001b[39;00m \u001b[38;5;21mget_an_album\u001b[39m(\u001b[38;5;28mid\u001b[39m):\n\u001b[0;32m      2\u001b[0m     url \u001b[38;5;241m=\u001b[39m \u001b[38;5;124m'\u001b[39m\u001b[38;5;124mhttps://api.spotify.com/v1/albums/\u001b[39m\u001b[38;5;132;01m{}\u001b[39;00m\u001b[38;5;124m'\u001b[39m\u001b[38;5;241m.\u001b[39mformat(\u001b[38;5;28mid\u001b[39m)\n\u001b[1;32m----> 3\u001b[0m     header \u001b[38;5;241m=\u001b[39m create_header(\u001b[43msession_token\u001b[49m\u001b[43m[\u001b[49m\u001b[38;5;124;43m'\u001b[39;49m\u001b[38;5;124;43maccess_token\u001b[39;49m\u001b[38;5;124;43m'\u001b[39;49m\u001b[43m]\u001b[49m)\n\u001b[0;32m      4\u001b[0m     json_response \u001b[38;5;241m=\u001b[39m connect_to_endpoint(url, header)\n\u001b[0;32m      5\u001b[0m     \u001b[38;5;28;01mreturn\u001b[39;00m json_response\n",
      "\u001b[1;31mTypeError\u001b[0m: string indices must be integers, not 'str'"
     ]
    }
   ],
   "source": [
    "album = recent_album('4SCX3dug3ynnD4WmwHfIbL')"
   ]
  },
  {
   "cell_type": "code",
   "execution_count": 103,
   "id": "6270b734-d0b6-4d98-8cfc-2e4cdd74260e",
   "metadata": {},
   "outputs": [
    {
     "ename": "NameError",
     "evalue": "name 'old_album' is not defined",
     "output_type": "error",
     "traceback": [
      "\u001b[1;31m---------------------------------------------------------------------------\u001b[0m",
      "\u001b[1;31mNameError\u001b[0m                                 Traceback (most recent call last)",
      "Cell \u001b[1;32mIn[103], line 1\u001b[0m\n\u001b[1;32m----> 1\u001b[0m album \u001b[38;5;241m=\u001b[39m \u001b[43mold_album\u001b[49m(\u001b[38;5;124m'\u001b[39m\u001b[38;5;124m6FcBNs7bS0c9D2S2jduaHs\u001b[39m\u001b[38;5;124m'\u001b[39m)\n",
      "\u001b[1;31mNameError\u001b[0m: name 'old_album' is not defined"
     ]
    }
   ],
   "source": [
    "album = old_album('6FcBNs7bS0c9D2S2jduaHs')"
   ]
  },
  {
   "cell_type": "code",
   "execution_count": 104,
   "id": "88a2199c-871e-4d86-b495-274342ca6da6",
   "metadata": {},
   "outputs": [],
   "source": [
    "# I think I'm having the same issue as before with this access token stuff :("
   ]
  },
  {
   "cell_type": "code",
   "execution_count": 97,
   "id": "0edbb1b1-2c1d-404c-a3a9-e403ce533815",
   "metadata": {},
   "outputs": [],
   "source": [
    "# recent_album"
   ]
  },
  {
   "cell_type": "code",
   "execution_count": 105,
   "id": "44f78a68-2715-4695-bcd8-6bbb87813f58",
   "metadata": {},
   "outputs": [],
   "source": [
    "# old_album"
   ]
  },
  {
   "cell_type": "code",
   "execution_count": 98,
   "id": "31daf85a-fe44-4354-94ca-1a556b134f4a",
   "metadata": {},
   "outputs": [
    {
     "ename": "NameError",
     "evalue": "name 'album' is not defined",
     "output_type": "error",
     "traceback": [
      "\u001b[1;31m---------------------------------------------------------------------------\u001b[0m",
      "\u001b[1;31mNameError\u001b[0m                                 Traceback (most recent call last)",
      "Cell \u001b[1;32mIn[98], line 1\u001b[0m\n\u001b[1;32m----> 1\u001b[0m \u001b[43malbum\u001b[49m\u001b[38;5;241m.\u001b[39mkeys()\n",
      "\u001b[1;31mNameError\u001b[0m: name 'album' is not defined"
     ]
    }
   ],
   "source": [
    "recent_album.keys()"
   ]
  },
  {
   "cell_type": "code",
   "execution_count": 106,
   "id": "8dff0477-1184-482d-b069-6229bebc3a35",
   "metadata": {},
   "outputs": [
    {
     "ename": "NameError",
     "evalue": "name 'old_album' is not defined",
     "output_type": "error",
     "traceback": [
      "\u001b[1;31m---------------------------------------------------------------------------\u001b[0m",
      "\u001b[1;31mNameError\u001b[0m                                 Traceback (most recent call last)",
      "Cell \u001b[1;32mIn[106], line 1\u001b[0m\n\u001b[1;32m----> 1\u001b[0m \u001b[43mold_album\u001b[49m\u001b[38;5;241m.\u001b[39mkeys()\n",
      "\u001b[1;31mNameError\u001b[0m: name 'old_album' is not defined"
     ]
    }
   ],
   "source": [
    "old_album.keys()"
   ]
  },
  {
   "cell_type": "code",
   "execution_count": 99,
   "id": "81923e46-71d3-45e2-88b4-157f00706c99",
   "metadata": {},
   "outputs": [
    {
     "ename": "NameError",
     "evalue": "name 'album' is not defined",
     "output_type": "error",
     "traceback": [
      "\u001b[1;31m---------------------------------------------------------------------------\u001b[0m",
      "\u001b[1;31mNameError\u001b[0m                                 Traceback (most recent call last)",
      "Cell \u001b[1;32mIn[99], line 1\u001b[0m\n\u001b[1;32m----> 1\u001b[0m \u001b[43malbum\u001b[49m[\u001b[38;5;124m'\u001b[39m\u001b[38;5;124mtracks\u001b[39m\u001b[38;5;124m'\u001b[39m][\u001b[38;5;124m'\u001b[39m\u001b[38;5;124mitems\u001b[39m\u001b[38;5;124m'\u001b[39m][\u001b[38;5;241m0\u001b[39m][\u001b[38;5;124m'\u001b[39m\u001b[38;5;124mid\u001b[39m\u001b[38;5;124m'\u001b[39m]\n",
      "\u001b[1;31mNameError\u001b[0m: name 'album' is not defined"
     ]
    }
   ],
   "source": [
    "recent_album['tracks']['items'][0]['id']"
   ]
  },
  {
   "cell_type": "code",
   "execution_count": null,
   "id": "adeabe23-ce4a-4b29-a5f9-25121a7e7880",
   "metadata": {},
   "outputs": [],
   "source": [
    "old_album['tracks']['items'][0]['id']"
   ]
  },
  {
   "cell_type": "code",
   "execution_count": 108,
   "id": "8f3bb845-4573-41df-94f2-8d24e16bd435",
   "metadata": {},
   "outputs": [
    {
     "ename": "NameError",
     "evalue": "name 'recent_album' is not defined",
     "output_type": "error",
     "traceback": [
      "\u001b[1;31m---------------------------------------------------------------------------\u001b[0m",
      "\u001b[1;31mNameError\u001b[0m                                 Traceback (most recent call last)",
      "Cell \u001b[1;32mIn[108], line 1\u001b[0m\n\u001b[1;32m----> 1\u001b[0m audio_features \u001b[38;5;241m=\u001b[39m [track_audio_features(x[\u001b[38;5;124m'\u001b[39m\u001b[38;5;124mid\u001b[39m\u001b[38;5;124m'\u001b[39m]) \u001b[38;5;28;01mfor\u001b[39;00m x \u001b[38;5;129;01min\u001b[39;00m \u001b[43mrecent_album\u001b[49m[\u001b[38;5;124m'\u001b[39m\u001b[38;5;124mtracks\u001b[39m\u001b[38;5;124m'\u001b[39m][\u001b[38;5;124m'\u001b[39m\u001b[38;5;124mitems\u001b[39m\u001b[38;5;124m'\u001b[39m]]\n",
      "\u001b[1;31mNameError\u001b[0m: name 'recent_album' is not defined"
     ]
    }
   ],
   "source": [
    "recent_audio_features = [track_audio_features(x['id']) for x in recent_album['tracks']['items']]"
   ]
  },
  {
   "cell_type": "code",
   "execution_count": null,
   "id": "ae0c12ad-0b06-41eb-9c9b-d111cb7793b8",
   "metadata": {},
   "outputs": [],
   "source": [
    "old_audio_features = [track_audio_features(x['id']) for x in old_album['tracks']['items']]"
   ]
  },
  {
   "cell_type": "code",
   "execution_count": 101,
   "id": "36fb3692-f332-4a80-ad9b-90acfa50cef4",
   "metadata": {},
   "outputs": [],
   "source": [
    "# Audio_features"
   ]
  },
  {
   "cell_type": "code",
   "execution_count": 109,
   "id": "4ccf7f74-d6f9-4fa9-9a6a-d96350d10ae2",
   "metadata": {},
   "outputs": [
    {
     "ename": "NameError",
     "evalue": "name 'audio_features' is not defined",
     "output_type": "error",
     "traceback": [
      "\u001b[1;31m---------------------------------------------------------------------------\u001b[0m",
      "\u001b[1;31mNameError\u001b[0m                                 Traceback (most recent call last)",
      "Cell \u001b[1;32mIn[109], line 1\u001b[0m\n\u001b[1;32m----> 1\u001b[0m recent_audio_features_df \u001b[38;5;241m=\u001b[39m pd\u001b[38;5;241m.\u001b[39mDataFrame(\u001b[43maudio_features\u001b[49m)\n\u001b[0;32m      2\u001b[0m recent_audio_features_df\u001b[38;5;241m.\u001b[39mhead()\n\u001b[0;32m      3\u001b[0m old_audio_features_df \u001b[38;5;241m=\u001b[39m pd\u001b[38;5;241m.\u001b[39mDataFrame(audio_features)\n",
      "\u001b[1;31mNameError\u001b[0m: name 'audio_features' is not defined"
     ]
    }
   ],
   "source": [
    "recent_audio_features_df = pd.DataFrame(audio_features)\n",
    "recent_audio_features_df.head()\n",
    "old_audio_features_df = pd.DataFrame(audio_features)\n",
    "old_audio_features_df.head()"
   ]
  },
  {
   "cell_type": "code",
   "execution_count": null,
   "id": "bc7020e2-5007-4c1e-bb27-676101df0bff",
   "metadata": {},
   "outputs": [],
   "source": [
    "# I'm having the absolute hardest time trying to find the fix to this. I genuinely believe that the whole root of the issues I'm seeing here are from that early on access token issue and I just can't fix it. I would really love to use this dataset to see what on my playlist from 2021 is still something that I listen to this year. I'd also love to be able to sort what would be in this dataset but I just can't see it to sor"
   ]
  }
 ],
 "metadata": {
  "kernelspec": {
   "display_name": "Python 3 (ipykernel)",
   "language": "python",
   "name": "python3"
  },
  "language_info": {
   "codemirror_mode": {
    "name": "ipython",
    "version": 3
   },
   "file_extension": ".py",
   "mimetype": "text/x-python",
   "name": "python",
   "nbconvert_exporter": "python",
   "pygments_lexer": "ipython3",
   "version": "3.12.4"
  }
 },
 "nbformat": 4,
 "nbformat_minor": 5
}
